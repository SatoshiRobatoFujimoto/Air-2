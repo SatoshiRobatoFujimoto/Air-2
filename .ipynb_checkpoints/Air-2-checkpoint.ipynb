{
 "cells": [
  {
   "cell_type": "code",
   "execution_count": null,
   "metadata": {
    "collapsed": false
   },
   "outputs": [],
   "source": [
    "# Read Air Voltage from Air 2 for Quake Forecast\n",
    "# Dyson Lin dysonlin@gmail.com\n",
    "# V0.2 2017-03-29 01:52 UTC+8\n",
    "\n",
    "import serial\n",
    "from time import sleep\n",
    "\n",
    "port = serial.Serial('COM3', 9600, timeout=1)\n",
    "print(port)\n",
    "\n",
    "while True:\n",
    "    line = port.readline()\n",
    "    print(line)\n",
    "    sleep(0.1) #sleep 0.1 second"
   ]
  },
  {
   "cell_type": "code",
   "execution_count": null,
   "metadata": {
    "collapsed": true
   },
   "outputs": [],
   "source": []
  }
 ],
 "metadata": {
  "anaconda-cloud": {},
  "kernelspec": {
   "display_name": "Python [default]",
   "language": "python",
   "name": "python3"
  },
  "language_info": {
   "codemirror_mode": {
    "name": "ipython",
    "version": 3
   },
   "file_extension": ".py",
   "mimetype": "text/x-python",
   "name": "python",
   "nbconvert_exporter": "python",
   "pygments_lexer": "ipython3",
   "version": "3.5.2"
  }
 },
 "nbformat": 4,
 "nbformat_minor": 1
}
